{
 "cells": [
  {
   "cell_type": "code",
   "execution_count": 1,
   "metadata": {},
   "outputs": [
    {
     "ename": "ModuleNotFoundError",
     "evalue": "No module named 'catboost'",
     "output_type": "error",
     "traceback": [
      "\u001b[1;31m---------------------------------------------------------------------------\u001b[0m",
      "\u001b[1;31mModuleNotFoundError\u001b[0m                       Traceback (most recent call last)",
      "\u001b[1;32m<ipython-input-1-9653fd9df158>\u001b[0m in \u001b[0;36m<module>\u001b[1;34m\u001b[0m\n\u001b[0;32m      3\u001b[0m \u001b[1;32mfrom\u001b[0m \u001b[0mML\u001b[0m\u001b[1;33m.\u001b[0m\u001b[0mModelTraining\u001b[0m \u001b[1;32mimport\u001b[0m \u001b[0mGdb\u001b[0m\u001b[1;33m\u001b[0m\u001b[1;33m\u001b[0m\u001b[0m\n\u001b[0;32m      4\u001b[0m \u001b[1;32mimport\u001b[0m \u001b[0mnumpy\u001b[0m \u001b[1;32mas\u001b[0m \u001b[0mnp\u001b[0m\u001b[1;33m\u001b[0m\u001b[1;33m\u001b[0m\u001b[0m\n\u001b[1;32m----> 5\u001b[1;33m \u001b[1;32mimport\u001b[0m \u001b[0mcatboost\u001b[0m \u001b[1;32mas\u001b[0m \u001b[0mcb\u001b[0m\u001b[1;33m\u001b[0m\u001b[1;33m\u001b[0m\u001b[0m\n\u001b[0m",
      "\u001b[1;31mModuleNotFoundError\u001b[0m: No module named 'catboost'"
     ]
    }
   ],
   "source": [
    "from ML.PreProcessing import PreProcessCorpus\n",
    "from ML.FeatureEngineering import FeatureEngineering\n",
    "from ML.ModelTraining import Gdb\n",
    "import numpy as np\n",
    "import catboost as cb"
   ]
  },
  {
   "cell_type": "code",
   "execution_count": 5,
   "metadata": {},
   "outputs": [],
   "source": [
    "from sklearn.experimental import enable_hist_gradient_boosting\n",
    "from sklearn import ensemble\n",
    "from sklearn.metrics import accuracy_score, confusion_matrix\n",
    "from sklearn.metrics import precision_recall_curve\n",
    "from sklearn import svm\n",
    "import matplotlib.pyplot as plt\n",
    "import seaborn as sess\n",
    "sess.set()"
   ]
  },
  {
   "cell_type": "code",
   "execution_count": 7,
   "metadata": {},
   "outputs": [
    {
     "ename": "IndexError",
     "evalue": "index (6011) out of range",
     "output_type": "error",
     "traceback": [
      "\u001b[1;31m---------------------------------------------------------------------------\u001b[0m",
      "\u001b[1;31mIndexError\u001b[0m                                Traceback (most recent call last)",
      "\u001b[1;32m<ipython-input-7-1c878f74fd9f>\u001b[0m in \u001b[0;36m<module>\u001b[1;34m\u001b[0m\n\u001b[0;32m      9\u001b[0m \u001b[1;33m\u001b[0m\u001b[0m\n\u001b[0;32m     10\u001b[0m tfidf_train = fe.find_diff_tfidf(train_bag_of_words, labels=train_data[\"text type\"], file_path=train_data[\"file path\"],\n\u001b[1;32m---> 11\u001b[1;33m                                 diff_size=200, satire_size=500, fake_size=500)\n\u001b[0m\u001b[0;32m     12\u001b[0m tfidf_validation = {\"tfidf\":fe.transfer_diff_tfidf(validation_bag_of_words), \"file path\": validation_data[\"file path\"],\n\u001b[0;32m     13\u001b[0m                     \"labels\": validation_data[\"text type\"]}\n",
      "\u001b[1;32m~\\Documents\\Python\\Nico\\FakeNewsData\\Web\\ML\\FeatureEngineering.py\u001b[0m in \u001b[0;36mfind_diff_tfidf\u001b[1;34m(self, bag_of_words, labels, file_path, diff_size, satire_size, fake_size)\u001b[0m\n\u001b[0;32m     45\u001b[0m \u001b[1;33m\u001b[0m\u001b[0m\n\u001b[0;32m     46\u001b[0m         \u001b[1;31m# Use diff tfidf metric\u001b[0m\u001b[1;33m\u001b[0m\u001b[1;33m\u001b[0m\u001b[1;33m\u001b[0m\u001b[0m\n\u001b[1;32m---> 47\u001b[1;33m         \u001b[0mN_satire\u001b[0m \u001b[1;33m=\u001b[0m \u001b[0mnp\u001b[0m\u001b[1;33m.\u001b[0m\u001b[0msum\u001b[0m\u001b[1;33m(\u001b[0m\u001b[0mmask_satire\u001b[0m\u001b[1;33m)\u001b[0m\u001b[1;33m\u001b[0m\u001b[1;33m\u001b[0m\u001b[0m\n\u001b[0m\u001b[0;32m     48\u001b[0m         \u001b[0mN_fake\u001b[0m \u001b[1;33m=\u001b[0m \u001b[0mnp\u001b[0m\u001b[1;33m.\u001b[0m\u001b[0msum\u001b[0m\u001b[1;33m(\u001b[0m\u001b[0mmask_fake\u001b[0m\u001b[1;33m)\u001b[0m\u001b[1;33m\u001b[0m\u001b[1;33m\u001b[0m\u001b[0m\n\u001b[0;32m     49\u001b[0m         \u001b[0msatire_idf\u001b[0m \u001b[1;33m=\u001b[0m \u001b[0mnp\u001b[0m\u001b[1;33m.\u001b[0m\u001b[0mlog\u001b[0m\u001b[1;33m(\u001b[0m\u001b[0mN_satire\u001b[0m \u001b[1;33m/\u001b[0m \u001b[1;33m(\u001b[0m\u001b[1;36m1\u001b[0m \u001b[1;33m+\u001b[0m \u001b[0mnp\u001b[0m\u001b[1;33m.\u001b[0m\u001b[0msum\u001b[0m\u001b[1;33m(\u001b[0m\u001b[0mbag_of_words\u001b[0m\u001b[1;33m[\u001b[0m\u001b[0mmask_satire\u001b[0m\u001b[1;33m,\u001b[0m \u001b[1;33m:\u001b[0m\u001b[1;33m]\u001b[0m \u001b[1;33m!=\u001b[0m \u001b[1;36m0\u001b[0m\u001b[1;33m,\u001b[0m \u001b[0maxis\u001b[0m\u001b[1;33m=\u001b[0m\u001b[1;36m0\u001b[0m\u001b[1;33m)\u001b[0m\u001b[1;33m)\u001b[0m\u001b[1;33m)\u001b[0m\u001b[1;33m\u001b[0m\u001b[1;33m\u001b[0m\u001b[0m\n",
      "\u001b[1;32m~\\anaconda3\\lib\\site-packages\\scipy\\sparse\\_index.py\u001b[0m in \u001b[0;36m__getitem__\u001b[1;34m(self, key)\u001b[0m\n\u001b[0;32m     33\u001b[0m     \"\"\"\n\u001b[0;32m     34\u001b[0m     \u001b[1;32mdef\u001b[0m \u001b[0m__getitem__\u001b[0m\u001b[1;33m(\u001b[0m\u001b[0mself\u001b[0m\u001b[1;33m,\u001b[0m \u001b[0mkey\u001b[0m\u001b[1;33m)\u001b[0m\u001b[1;33m:\u001b[0m\u001b[1;33m\u001b[0m\u001b[1;33m\u001b[0m\u001b[0m\n\u001b[1;32m---> 35\u001b[1;33m         \u001b[0mrow\u001b[0m\u001b[1;33m,\u001b[0m \u001b[0mcol\u001b[0m \u001b[1;33m=\u001b[0m \u001b[0mself\u001b[0m\u001b[1;33m.\u001b[0m\u001b[0m_validate_indices\u001b[0m\u001b[1;33m(\u001b[0m\u001b[0mkey\u001b[0m\u001b[1;33m)\u001b[0m\u001b[1;33m\u001b[0m\u001b[1;33m\u001b[0m\u001b[0m\n\u001b[0m\u001b[0;32m     36\u001b[0m         \u001b[1;31m# Dispatch to specialized methods.\u001b[0m\u001b[1;33m\u001b[0m\u001b[1;33m\u001b[0m\u001b[1;33m\u001b[0m\u001b[0m\n\u001b[0;32m     37\u001b[0m         \u001b[1;32mif\u001b[0m \u001b[0misinstance\u001b[0m\u001b[1;33m(\u001b[0m\u001b[0mrow\u001b[0m\u001b[1;33m,\u001b[0m \u001b[0mINT_TYPES\u001b[0m\u001b[1;33m)\u001b[0m\u001b[1;33m:\u001b[0m\u001b[1;33m\u001b[0m\u001b[1;33m\u001b[0m\u001b[0m\n",
      "\u001b[1;32m~\\anaconda3\\lib\\site-packages\\scipy\\sparse\\_index.py\u001b[0m in \u001b[0;36m_validate_indices\u001b[1;34m(self, key)\u001b[0m\n\u001b[0;32m    137\u001b[0m                 \u001b[0mrow\u001b[0m \u001b[1;33m+=\u001b[0m \u001b[0mM\u001b[0m\u001b[1;33m\u001b[0m\u001b[1;33m\u001b[0m\u001b[0m\n\u001b[0;32m    138\u001b[0m         \u001b[1;32melif\u001b[0m \u001b[1;32mnot\u001b[0m \u001b[0misinstance\u001b[0m\u001b[1;33m(\u001b[0m\u001b[0mrow\u001b[0m\u001b[1;33m,\u001b[0m \u001b[0mslice\u001b[0m\u001b[1;33m)\u001b[0m\u001b[1;33m:\u001b[0m\u001b[1;33m\u001b[0m\u001b[1;33m\u001b[0m\u001b[0m\n\u001b[1;32m--> 139\u001b[1;33m             \u001b[0mrow\u001b[0m \u001b[1;33m=\u001b[0m \u001b[0mself\u001b[0m\u001b[1;33m.\u001b[0m\u001b[0m_asindices\u001b[0m\u001b[1;33m(\u001b[0m\u001b[0mrow\u001b[0m\u001b[1;33m,\u001b[0m \u001b[0mM\u001b[0m\u001b[1;33m)\u001b[0m\u001b[1;33m\u001b[0m\u001b[1;33m\u001b[0m\u001b[0m\n\u001b[0m\u001b[0;32m    140\u001b[0m \u001b[1;33m\u001b[0m\u001b[0m\n\u001b[0;32m    141\u001b[0m         \u001b[1;32mif\u001b[0m \u001b[0misintlike\u001b[0m\u001b[1;33m(\u001b[0m\u001b[0mcol\u001b[0m\u001b[1;33m)\u001b[0m\u001b[1;33m:\u001b[0m\u001b[1;33m\u001b[0m\u001b[1;33m\u001b[0m\u001b[0m\n",
      "\u001b[1;32m~\\anaconda3\\lib\\site-packages\\scipy\\sparse\\_index.py\u001b[0m in \u001b[0;36m_asindices\u001b[1;34m(self, idx, length)\u001b[0m\n\u001b[0;32m    169\u001b[0m         \u001b[0mmax_indx\u001b[0m \u001b[1;33m=\u001b[0m \u001b[0mx\u001b[0m\u001b[1;33m.\u001b[0m\u001b[0mmax\u001b[0m\u001b[1;33m(\u001b[0m\u001b[1;33m)\u001b[0m\u001b[1;33m\u001b[0m\u001b[1;33m\u001b[0m\u001b[0m\n\u001b[0;32m    170\u001b[0m         \u001b[1;32mif\u001b[0m \u001b[0mmax_indx\u001b[0m \u001b[1;33m>=\u001b[0m \u001b[0mlength\u001b[0m\u001b[1;33m:\u001b[0m\u001b[1;33m\u001b[0m\u001b[1;33m\u001b[0m\u001b[0m\n\u001b[1;32m--> 171\u001b[1;33m             \u001b[1;32mraise\u001b[0m \u001b[0mIndexError\u001b[0m\u001b[1;33m(\u001b[0m\u001b[1;34m'index (%d) out of range'\u001b[0m \u001b[1;33m%\u001b[0m \u001b[0mmax_indx\u001b[0m\u001b[1;33m)\u001b[0m\u001b[1;33m\u001b[0m\u001b[1;33m\u001b[0m\u001b[0m\n\u001b[0m\u001b[0;32m    172\u001b[0m \u001b[1;33m\u001b[0m\u001b[0m\n\u001b[0;32m    173\u001b[0m         \u001b[0mmin_indx\u001b[0m \u001b[1;33m=\u001b[0m \u001b[0mx\u001b[0m\u001b[1;33m.\u001b[0m\u001b[0mmin\u001b[0m\u001b[1;33m(\u001b[0m\u001b[1;33m)\u001b[0m\u001b[1;33m\u001b[0m\u001b[1;33m\u001b[0m\u001b[0m\n",
      "\u001b[1;31mIndexError\u001b[0m: index (6011) out of range"
     ]
    }
   ],
   "source": [
    "corpus = PreProcessCorpus(dir_path=r\"C:\\ProjectNLP\\FakeNewsData\\StoryText 2\")\n",
    "train_data, validation_data, test_data = corpus.generate_data_frame()\n",
    "\n",
    "fe = FeatureEngineering(data=train_data)\n",
    "fe.train_bag_of_words(2)\n",
    "train_bag_of_words = fe.generate_bag_of_words(train_data['sentences'])\n",
    "validation_bag_of_words = fe.generate_bag_of_words(validation_data['sentences'])\n",
    "test_bag_of_words = fe.generate_bag_of_words(test_data['sentences'])\n",
    "\n",
    "tfidf_train = fe.find_diff_tfidf(train_bag_of_words, labels=train_data[\"text type\"], file_path=train_data[\"file path\"],\n",
    "                                diff_size=200, satire_size=500, fake_size=500)\n",
    "tfidf_validation = {\"tfidf\":fe.transfer_diff_tfidf(validation_bag_of_words), \"file path\": validation_data[\"file path\"],\n",
    "                    \"labels\": validation_data[\"text type\"]}\n",
    "tfidf_test = {\"tfidf\":fe.transfer_diff_tfidf(test_bag_of_words), \"file path\": test_data[\"file path\"],\n",
    "              \"labels\": test_data[\"text type\"]}\n",
    "\n",
    "tfidf_train[\"labels\"] = 1 * (tfidf_train[\"labels\"] == \"fake\")\n",
    "tfidf_validation[\"labels\"] = 1 * (tfidf_validation[\"labels\"] == \"fake\")\n",
    "tfidf_test[\"labels\"] = 1 * (tfidf_test[\"labels\"] == \"fake\")"
   ]
  },
  {
   "cell_type": "code",
   "execution_count": 4,
   "metadata": {},
   "outputs": [],
   "source": [
    "x_train = tfidf_train[\"tfidf\"]\n",
    "y_train = tfidf_train[\"labels\"].values\n",
    "x_validation = tfidf_validation[\"tfidf\"]\n",
    "y_validation = tfidf_validation[\"labels\"].values\n",
    "x_test = tfidf_test[\"tfidf\"]\n",
    "y_test = tfidf_test[\"labels\"].values"
   ]
  },
  {
   "cell_type": "code",
   "execution_count": 95,
   "metadata": {},
   "outputs": [
    {
     "name": "stdout",
     "output_type": "stream",
     "text": [
      "0:\tlearn: 0.6928330\ttotal: 9.84ms\tremaining: 4.91s\n",
      "20:\tlearn: 0.6855230\ttotal: 114ms\tremaining: 2.6s\n",
      "40:\tlearn: 0.6780762\ttotal: 216ms\tremaining: 2.42s\n",
      "60:\tlearn: 0.6694284\ttotal: 329ms\tremaining: 2.37s\n",
      "80:\tlearn: 0.6617214\ttotal: 434ms\tremaining: 2.25s\n",
      "100:\tlearn: 0.6527489\ttotal: 537ms\tremaining: 2.12s\n",
      "120:\tlearn: 0.6380652\ttotal: 644ms\tremaining: 2.02s\n",
      "140:\tlearn: 0.6106692\ttotal: 751ms\tremaining: 1.91s\n",
      "160:\tlearn: 0.5872725\ttotal: 857ms\tremaining: 1.8s\n",
      "180:\tlearn: 0.5675454\ttotal: 960ms\tremaining: 1.69s\n",
      "200:\tlearn: 0.5504970\ttotal: 1.06s\tremaining: 1.58s\n",
      "220:\tlearn: 0.5351568\ttotal: 1.17s\tremaining: 1.47s\n",
      "240:\tlearn: 0.5228794\ttotal: 1.27s\tremaining: 1.37s\n",
      "260:\tlearn: 0.5111299\ttotal: 1.38s\tremaining: 1.26s\n",
      "280:\tlearn: 0.4997569\ttotal: 1.49s\tremaining: 1.16s\n",
      "300:\tlearn: 0.4890054\ttotal: 1.6s\tremaining: 1.05s\n",
      "320:\tlearn: 0.4792302\ttotal: 1.71s\tremaining: 953ms\n",
      "340:\tlearn: 0.4703443\ttotal: 1.82s\tremaining: 849ms\n",
      "360:\tlearn: 0.4615325\ttotal: 1.93s\tremaining: 742ms\n",
      "380:\tlearn: 0.4528745\ttotal: 2.03s\tremaining: 635ms\n",
      "400:\tlearn: 0.4450991\ttotal: 2.14s\tremaining: 529ms\n",
      "420:\tlearn: 0.4375758\ttotal: 2.25s\tremaining: 422ms\n",
      "440:\tlearn: 0.4302797\ttotal: 2.36s\tremaining: 315ms\n",
      "460:\tlearn: 0.4226925\ttotal: 2.46s\tremaining: 208ms\n",
      "480:\tlearn: 0.4161411\ttotal: 2.57s\tremaining: 102ms\n",
      "499:\tlearn: 0.4097869\ttotal: 2.67s\tremaining: 0us\n"
     ]
    },
    {
     "data": {
      "text/plain": [
       "<catboost.core.CatBoostClassifier at 0x1c146e5ba48>"
      ]
     },
     "execution_count": 95,
     "metadata": {},
     "output_type": "execute_result"
    }
   ],
   "source": [
    "cb_estimator = cb.CatBoostClassifier(verbose=1, depth=4, learning_rate = 0.1,metric_period=20, iterations= 500,\n",
    "                 random_seed=0,feature_border_type=\"GreedyLogSum\",random_strength=100, od_pval=0.01, class_weights=[0.6,0.4])\n",
    "eval_dataset  = cb.Pool( x_validation, y_validation)  \n",
    "cb_estimator.fit(x_train, y_train)\n",
    "\n",
    "# gb_estimator = ensemble.GradientBoostingClassifier(criterion='mse', verbose=1, subsample=1, n_estimators=500, max_depth=3,max_features=\"sqrt\",\n",
    "#                                                   n_iter_no_change=10, learning_rate=0.1)\n",
    "# gb_estimator.fit(x_train, y_train)\n",
    "\n",
    "# hist_estimator = ensemble.HistGradientBoostingClassifier(verbose=1)\n",
    "# hist_estimator.fit(x_train, y_train)\n",
    "\n",
    "# clf = svm.SVC(probability=True)\n",
    "# clf.fit(x_train, y_train)"
   ]
  },
  {
   "cell_type": "code",
   "execution_count": 96,
   "metadata": {},
   "outputs": [],
   "source": [
    "validation_pred = cb_estimator.predict_proba(x_validation)[:,1]"
   ]
  },
  {
   "cell_type": "markdown",
   "metadata": {},
   "source": [
    "<b>sentence accuracy:</b>"
   ]
  },
  {
   "cell_type": "code",
   "execution_count": 97,
   "metadata": {},
   "outputs": [
    {
     "name": "stdout",
     "output_type": "stream",
     "text": [
      "The accuracy score is: 0.6401590457256461\n"
     ]
    }
   ],
   "source": [
    "accuracy = accuracy_score(1*(np.array(validation_pred)>0.5), y_validation)\n",
    "print(f\"The accuracy score is: {accuracy}\")"
   ]
  },
  {
   "cell_type": "code",
   "execution_count": 98,
   "metadata": {},
   "outputs": [
    {
     "name": "stdout",
     "output_type": "stream",
     "text": [
      "The confusion matrix:\n",
      "[[420 268]\n",
      " [275 546]]\n"
     ]
    }
   ],
   "source": [
    "cfs_matrix = confusion_matrix(1*(np.array(validation_pred)>0.5), y_validation)\n",
    "print(f\"The confusion matrix:\")\n",
    "print(cfs_matrix)"
   ]
  },
  {
   "cell_type": "code",
   "execution_count": 99,
   "metadata": {},
   "outputs": [
    {
     "data": {
      "image/png": "[encoded data removed]",
      "text/plain": [
       "<Figure size 432x288 with 1 Axes>"
      ]
     },
     "metadata": {},
     "output_type": "display_data"
    }
   ],
   "source": [
    "precision, recall, thresholds = precision_recall_curve(y_validation, validation_pred)\n",
    "plt.plot(recall, precision);\n",
    "plt.ylabel(\"Precision\");\n",
    "plt.xlabel(\"Recall\");\n",
    "plt.title(\"Precision-Recall Cruve\");\n",
    "plt.ylim([0,1.01]);"
   ]
  },
  {
   "cell_type": "markdown",
   "metadata": {},
   "source": [
    "<b>article accuracy:</b>"
   ]
  },
  {
   "cell_type": "code",
   "execution_count": 100,
   "metadata": {},
   "outputs": [],
   "source": [
    "pred_values = []\n",
    "labels = []\n",
    "unique_files = tfidf_validation[\"file path\"].unique()\n",
    "for pfile in unique_files:\n",
    "    file_mask = (tfidf_validation[\"file path\"] == pfile)\n",
    "    pred = np.mean(validation_pred[file_mask])\n",
    "    label = np.mean(y_validation[file_mask])\n",
    "    pred_values.append(pred)\n",
    "    labels.append(label)"
   ]
  },
  {
   "cell_type": "code",
   "execution_count": 101,
   "metadata": {},
   "outputs": [
    {
     "name": "stdout",
     "output_type": "stream",
     "text": [
      "The accuracy score is: 0.7407407407407407\n"
     ]
    }
   ],
   "source": [
    "labels = np.array(labels)\n",
    "accuracy = accuracy_score(1*(np.array(pred_values)>0.5), labels)\n",
    "print(f\"The accuracy score is: {accuracy}\")"
   ]
  },
  {
   "cell_type": "code",
   "execution_count": 102,
   "metadata": {},
   "outputs": [
    {
     "name": "stdout",
     "output_type": "stream",
     "text": [
      "The confusion matrix:\n",
      "[[19  8]\n",
      " [13 41]]\n"
     ]
    }
   ],
   "source": [
    "cfs_matrix = confusion_matrix(1*(np.array(pred_values)>0.5), labels)\n",
    "print(f\"The confusion matrix:\")\n",
    "print(cfs_matrix)"
   ]
  },
  {
   "cell_type": "code",
   "execution_count": 103,
   "metadata": {},
   "outputs": [
    {
     "data": {
      "image/png": "[encoded data removed]",
      "text/plain": [
       "<Figure size 432x288 with 1 Axes>"
      ]
     },
     "metadata": {},
     "output_type": "display_data"
    }
   ],
   "source": [
    "precision, recall, thresholds = precision_recall_curve(labels, pred_values)\n",
    "plt.plot(recall, precision);\n",
    "plt.ylabel(\"Precision\");\n",
    "plt.xlabel(\"Recall\");\n",
    "plt.title(\"Precision-Recall Cruve\");\n",
    "plt.ylim([0,1.01]);"
   ]
  },
  {
   "cell_type": "markdown",
   "metadata": {},
   "source": [
    "<b>test article accuracy:</b>"
   ]
  },
  {
   "cell_type": "code",
   "execution_count": 107,
   "metadata": {},
   "outputs": [],
   "source": [
    "test_pred = cb_estimator.predict_proba(x_test)[:,1]"
   ]
  },
  {
   "cell_type": "code",
   "execution_count": 108,
   "metadata": {},
   "outputs": [],
   "source": [
    "pred_values = []\n",
    "labels = []\n",
    "unique_files = tfidf_test[\"file path\"].unique()\n",
    "for pfile in unique_files:\n",
    "    file_mask = (tfidf_test[\"file path\"] == pfile)\n",
    "    pred = np.mean(test_pred[file_mask])\n",
    "    label = np.mean(y_test[file_mask])\n",
    "    pred_values.append(pred)\n",
    "    labels.append(label)"
   ]
  },
  {
   "cell_type": "code",
   "execution_count": 109,
   "metadata": {},
   "outputs": [
    {
     "name": "stdout",
     "output_type": "stream",
     "text": [
      "The accuracy score is: 0.7777777777777778\n"
     ]
    }
   ],
   "source": [
    "labels = np.array(labels)\n",
    "accuracy = accuracy_score(1*(np.array(pred_values)>0.5), labels)\n",
    "print(f\"The accuracy score is: {accuracy}\")"
   ]
  },
  {
   "cell_type": "code",
   "execution_count": 110,
   "metadata": {},
   "outputs": [
    {
     "name": "stdout",
     "output_type": "stream",
     "text": [
      "The confusion matrix:\n",
      "[[18  3]\n",
      " [15 45]]\n"
     ]
    }
   ],
   "source": [
    "cfs_matrix = confusion_matrix(1*(np.array(pred_values)>0.5), labels)\n",
    "print(f\"The confusion matrix:\")\n",
    "print(cfs_matrix)"
   ]
  },
  {
   "cell_type": "code",
   "execution_count": 111,
   "metadata": {},
   "outputs": [
    {
     "data": {
      "image/png": "[encoded data removed]",
      "text/plain": [
       "<Figure size 432x288 with 1 Axes>"
      ]
     },
     "metadata": {},
     "output_type": "display_data"
    }
   ],
   "source": [
    "precision, recall, thresholds = precision_recall_curve(labels, pred_values)\n",
    "plt.plot(recall, precision);\n",
    "plt.ylabel(\"Precision\");\n",
    "plt.xlabel(\"Recall\");\n",
    "plt.title(\"Precision-Recall Cruve\");\n",
    "plt.ylim([0,1.01]);"
   ]
  },
  {
   "cell_type": "markdown",
   "metadata": {},
   "source": [
    "<b>Train all data for web</b>"
   ]
  },
  {
   "cell_type": "code",
   "execution_count": 115,
   "metadata": {},
   "outputs": [],
   "source": [
    "model_path = r\"ML\\SavedModels\\cataboost_classifier.cbm\"\n",
    "cb_estimator.save_model(model_path, format=\"cbm\", export_parameters=None)"
   ]
  },
  {
   "cell_type": "code",
   "execution_count": 117,
   "metadata": {},
   "outputs": [
    {
     "ename": "NameError",
     "evalue": "name 'cb_estimator' is not defined",
     "output_type": "error",
     "traceback": [
      "\u001b[1;31m---------------------------------------------------------------------------\u001b[0m",
      "\u001b[1;31mNameError\u001b[0m                                 Traceback (most recent call last)",
      "\u001b[1;32m<ipython-input-117-175f57b57481>\u001b[0m in \u001b[0;36m<module>\u001b[1;34m\u001b[0m\n\u001b[1;32m----> 1\u001b[1;33m \u001b[0mcb_estimator\u001b[0m\u001b[1;33m\u001b[0m\u001b[1;33m\u001b[0m\u001b[0m\n\u001b[0m",
      "\u001b[1;31mNameError\u001b[0m: name 'cb_estimator' is not defined"
     ]
    }
   ],
   "source": [
    "del cb_estimator\n",
    "cb_estimator"
   ]
  },
  {
   "cell_type": "code",
   "execution_count": 119,
   "metadata": {},
   "outputs": [
    {
     "data": {
      "text/plain": [
       "<catboost.core.CatBoostClassifier at 0x1c14adfe808>"
      ]
     },
     "execution_count": 119,
     "metadata": {},
     "output_type": "execute_result"
    }
   ],
   "source": [
    "cb_estimator = cb.CatBoostClassifier()\n",
    "cb_estimator.load_model(model_path)"
   ]
  },
  {
   "cell_type": "code",
   "execution_count": 128,
   "metadata": {},
   "outputs": [],
   "source": [
    "x_train_validation = np.concatenate([x_train, x_validation])\n",
    "y_train_validation = np.concatenate([y_train, y_validation])"
   ]
  },
  {
   "cell_type": "code",
   "execution_count": 130,
   "metadata": {},
   "outputs": [
    {
     "name": "stderr",
     "output_type": "stream",
     "text": [
      "Warning: Overfitting detector is active, thus evaluation metric is calculated on every iteration. 'metric_period' is ignored for evaluation metric.\n"
     ]
    },
    {
     "name": "stdout",
     "output_type": "stream",
     "text": [
      "0:\tlearn: 0.6926915\ttest: 0.6934140\tbest: 0.6934140 (0)\ttotal: 10.2ms\tremaining: 5.08s\n",
      "20:\tlearn: 0.6844787\ttest: 0.6938500\tbest: 0.6934140 (0)\ttotal: 126ms\tremaining: 2.87s\n",
      "40:\tlearn: 0.6739746\ttest: 0.6846096\tbest: 0.6842618 (37)\ttotal: 242ms\tremaining: 2.7s\n",
      "60:\tlearn: 0.6630450\ttest: 0.6739530\tbest: 0.6739530 (60)\ttotal: 361ms\tremaining: 2.6s\n",
      "80:\tlearn: 0.6554947\ttest: 0.6687720\tbest: 0.6687720 (80)\ttotal: 478ms\tremaining: 2.47s\n",
      "100:\tlearn: 0.6507375\ttest: 0.6673242\tbest: 0.6671177 (94)\ttotal: 594ms\tremaining: 2.34s\n",
      "120:\tlearn: 0.6377794\ttest: 0.6583135\tbest: 0.6583135 (120)\ttotal: 711ms\tremaining: 2.23s\n",
      "140:\tlearn: 0.6141407\ttest: 0.6424117\tbest: 0.6424117 (140)\ttotal: 826ms\tremaining: 2.1s\n",
      "160:\tlearn: 0.5919582\ttest: 0.6320778\tbest: 0.6320778 (160)\ttotal: 943ms\tremaining: 1.99s\n",
      "180:\tlearn: 0.5741271\ttest: 0.6304107\tbest: 0.6304107 (180)\ttotal: 1.06s\tremaining: 1.88s\n",
      "200:\tlearn: 0.5588601\ttest: 0.6336061\tbest: 0.6299250 (183)\ttotal: 1.19s\tremaining: 1.76s\n",
      "220:\tlearn: 0.5457258\ttest: 0.6316249\tbest: 0.6299250 (183)\ttotal: 1.3s\tremaining: 1.64s\n",
      "240:\tlearn: 0.5343201\ttest: 0.6333921\tbest: 0.6299250 (183)\ttotal: 1.43s\tremaining: 1.53s\n",
      "260:\tlearn: 0.5228792\ttest: 0.6321287\tbest: 0.6299250 (183)\ttotal: 1.54s\tremaining: 1.41s\n",
      "280:\tlearn: 0.5129995\ttest: 0.6330024\tbest: 0.6299250 (183)\ttotal: 1.66s\tremaining: 1.29s\n",
      "300:\tlearn: 0.5031529\ttest: 0.6319304\tbest: 0.6299250 (183)\ttotal: 1.78s\tremaining: 1.17s\n",
      "320:\tlearn: 0.4947519\ttest: 0.6335384\tbest: 0.6299250 (183)\ttotal: 1.89s\tremaining: 1.05s\n",
      "340:\tlearn: 0.4864613\ttest: 0.6361587\tbest: 0.6299250 (183)\ttotal: 2.01s\tremaining: 937ms\n",
      "360:\tlearn: 0.4788062\ttest: 0.6370320\tbest: 0.6299250 (183)\ttotal: 2.13s\tremaining: 820ms\n",
      "380:\tlearn: 0.4710867\ttest: 0.6399039\tbest: 0.6299250 (183)\ttotal: 2.25s\tremaining: 703ms\n",
      "400:\tlearn: 0.4637390\ttest: 0.6415622\tbest: 0.6299250 (183)\ttotal: 2.37s\tremaining: 586ms\n",
      "420:\tlearn: 0.4565529\ttest: 0.6416741\tbest: 0.6299250 (183)\ttotal: 2.5s\tremaining: 469ms\n",
      "Stopped by overfitting detector  (20 iterations wait)\n",
      "\n",
      "bestTest = 0.6299249837\n",
      "bestIteration = 183\n",
      "\n",
      "Shrink model to first 184 iterations.\n"
     ]
    },
    {
     "data": {
      "text/plain": [
       "<catboost.core.CatBoostClassifier at 0x1c14e5acfc8>"
      ]
     },
     "execution_count": 130,
     "metadata": {},
     "output_type": "execute_result"
    }
   ],
   "source": [
    "cb_estimator = cb.CatBoostClassifier(verbose=1, depth=4, learning_rate = 0.1,metric_period=20, iterations= 500,\n",
    "                 random_seed=0,feature_border_type=\"GreedyLogSum\",random_strength=100, od_pval=0.01, class_weights=[0.6,0.4])\n",
    "eval_dataset  = cb.Pool( x_test, y_test)  \n",
    "cb_estimator.fit(x_train_validation, y_train_validation, eval_set = eval_dataset)"
   ]
  },
  {
   "cell_type": "code",
   "execution_count": 134,
   "metadata": {},
   "outputs": [],
   "source": [
    "model_path = r\"ML\\SavedModels\\cataboost_classifier.cbm\"\n",
    "cb_estimator.save_model(model_path, format=\"cbm\", export_parameters=None)"
   ]
  },
  {
   "cell_type": "code",
   "execution_count": null,
   "metadata": {},
   "outputs": [],
   "source": []
  }
 ],
 "metadata": {
  "kernelspec": {
   "display_name": "Python 3",
   "language": "python",
   "name": "python3"
  },
  "language_info": {
   "codemirror_mode": {
    "name": "ipython",
    "version": 3
   },
   "file_extension": ".py",
   "mimetype": "text/x-python",
   "name": "python",
   "nbconvert_exporter": "python",
   "pygments_lexer": "ipython3",
   "version": "3.7.4"
  }
 },
 "nbformat": 4,
 "nbformat_minor": 4
}
