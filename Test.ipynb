{
 "cells": [
  {
   "cell_type": "code",
   "execution_count": 1,
   "metadata": {},
   "outputs": [],
   "source": [
    "from ML.PreProcessing import PreProcessCorpus\n",
    "from ML.FeatureEngineering import FeatureEngineering\n",
    "from ML.ModelTraining import Gdb\n",
    "import numpy as np\n",
    "import catboost as cb"
   ]
  },
  {
   "cell_type": "code",
   "execution_count": 2,
   "metadata": {},
   "outputs": [
    {
     "name": "stderr",
     "output_type": "stream",
     "text": [
      "C:\\Users\\Nico\\Anaconda3\\lib\\site-packages\\statsmodels\\tools\\_testing.py:19: FutureWarning: pandas.util.testing is deprecated. Use the functions in the public API at pandas.testing instead.\n",
      "  import pandas.util.testing as tm\n"
     ]
    }
   ],
   "source": [
    "from sklearn.experimental import enable_hist_gradient_boosting\n",
    "from sklearn import ensemble\n",
    "from sklearn.metrics import accuracy_score, confusion_matrix\n",
    "from sklearn.metrics import precision_recall_curve\n",
    "from sklearn import svm\n",
    "import matplotlib.pyplot as plt\n",
    "import seaborn as sess\n",
    "sess.set()"
   ]
  },
  {
   "cell_type": "code",
   "execution_count": 3,
   "metadata": {},
   "outputs": [],
   "source": [
    "corpus = PreProcessCorpus(dir_path=r\"C:\\ProjectNLP\\FakeNewsData\\StoryText 2\")\n",
    "train_data, validation_data, test_data = corpus.generate_data_frame()\n",
    "\n",
    "fe = FeatureEngineering(data=train_data)\n",
    "fe.train_bag_of_words(2)\n",
    "train_bag_of_words = fe.generate_bag_of_words(train_data['sentences'])\n",
    "validation_bag_of_words = fe.generate_bag_of_words(validation_data['sentences'])\n",
    "test_bag_of_words = fe.generate_bag_of_words(test_data['sentences'])\n",
    "\n",
    "tfidf_train = fe.find_diff_tfidf(train_bag_of_words, labels=train_data[\"text type\"], file_path=train_data[\"file path\"],\n",
    "                                diff_size=200, satire_size=500, fake_size=500)\n",
    "tfidf_validation = {\"tfidf\":fe.transfer_diff_tfidf(validation_bag_of_words), \"file path\": validation_data[\"file path\"],\n",
    "                    \"labels\": validation_data[\"text type\"]}\n",
    "tfidf_test = {\"tfidf\":fe.transfer_diff_tfidf(test_bag_of_words), \"file path\": test_data[\"file path\"],\n",
    "              \"labels\": test_data[\"text type\"]}\n",
    "\n",
    "tfidf_train[\"labels\"] = 1 * (tfidf_train[\"labels\"] == \"fake\")\n",
    "tfidf_validation[\"labels\"] = 1 * (tfidf_validation[\"labels\"] == \"fake\")\n",
    "tfidf_test[\"labels\"] = 1 * (tfidf_test[\"labels\"] == \"fake\")"
   ]
  },
  {
   "cell_type": "code",
   "execution_count": 4,
   "metadata": {},
   "outputs": [],
   "source": [
    "x_train = tfidf_train[\"tfidf\"]\n",
    "y_train = tfidf_train[\"labels\"].values\n",
    "x_validation = tfidf_validation[\"tfidf\"]\n",
    "y_validation = tfidf_validation[\"labels\"].values\n",
    "x_test = tfidf_test[\"tfidf\"]\n",
    "y_test = tfidf_test[\"labels\"].values"
   ]
  },
  {
   "cell_type": "code",
   "execution_count": 5,
   "metadata": {},
   "outputs": [
    {
     "name": "stdout",
     "output_type": "stream",
     "text": [
      "0:\tlearn: 0.6928330\ttotal: 66.1ms\tremaining: 33s\n",
      "20:\tlearn: 0.6855230\ttotal: 195ms\tremaining: 4.44s\n",
      "40:\tlearn: 0.6780762\ttotal: 328ms\tremaining: 3.67s\n",
      "60:\tlearn: 0.6694284\ttotal: 458ms\tremaining: 3.3s\n",
      "80:\tlearn: 0.6617214\ttotal: 595ms\tremaining: 3.08s\n",
      "100:\tlearn: 0.6527489\ttotal: 732ms\tremaining: 2.89s\n",
      "120:\tlearn: 0.6380652\ttotal: 877ms\tremaining: 2.75s\n",
      "140:\tlearn: 0.6106692\ttotal: 1.02s\tremaining: 2.61s\n",
      "160:\tlearn: 0.5872725\ttotal: 1.16s\tremaining: 2.44s\n",
      "180:\tlearn: 0.5675454\ttotal: 1.3s\tremaining: 2.29s\n",
      "200:\tlearn: 0.5504970\ttotal: 1.44s\tremaining: 2.15s\n",
      "220:\tlearn: 0.5351568\ttotal: 1.58s\tremaining: 2s\n",
      "240:\tlearn: 0.5228794\ttotal: 1.72s\tremaining: 1.85s\n",
      "260:\tlearn: 0.5111299\ttotal: 1.85s\tremaining: 1.7s\n",
      "280:\tlearn: 0.4997569\ttotal: 2s\tremaining: 1.55s\n",
      "300:\tlearn: 0.4890054\ttotal: 2.14s\tremaining: 1.41s\n",
      "320:\tlearn: 0.4792302\ttotal: 2.27s\tremaining: 1.26s\n",
      "340:\tlearn: 0.4703443\ttotal: 2.4s\tremaining: 1.12s\n",
      "360:\tlearn: 0.4615325\ttotal: 2.53s\tremaining: 976ms\n",
      "380:\tlearn: 0.4528745\ttotal: 2.67s\tremaining: 834ms\n",
      "400:\tlearn: 0.4450991\ttotal: 2.81s\tremaining: 695ms\n",
      "420:\tlearn: 0.4375758\ttotal: 2.95s\tremaining: 553ms\n",
      "440:\tlearn: 0.4302797\ttotal: 3.08s\tremaining: 412ms\n",
      "460:\tlearn: 0.4226925\ttotal: 3.21s\tremaining: 271ms\n",
      "480:\tlearn: 0.4161411\ttotal: 3.34s\tremaining: 132ms\n",
      "499:\tlearn: 0.4097869\ttotal: 3.46s\tremaining: 0us\n"
     ]
    },
    {
     "data": {
      "text/plain": [
       "<catboost.core.CatBoostClassifier at 0x16c33f30f88>"
      ]
     },
     "execution_count": 5,
     "metadata": {},
     "output_type": "execute_result"
    }
   ],
   "source": [
    "cb_estimator = cb.CatBoostClassifier(verbose=1, depth=4, learning_rate = 0.1,metric_period=20, iterations= 500,\n",
    "                 random_seed=0,feature_border_type=\"GreedyLogSum\",random_strength=100, od_pval=0.01, class_weights=[0.6,0.4])\n",
    "eval_dataset  = cb.Pool( x_validation, y_validation)  \n",
    "cb_estimator.fit(x_train, y_train)\n",
    "\n",
    "# gb_estimator = ensemble.GradientBoostingClassifier(criterion='mse', verbose=1, subsample=1, n_estimators=500, max_depth=3,max_features=\"sqrt\",\n",
    "#                                                   n_iter_no_change=10, learning_rate=0.1)\n",
    "# gb_estimator.fit(x_train, y_train)\n",
    "\n",
    "# hist_estimator = ensemble.HistGradientBoostingClassifier(verbose=1)\n",
    "# hist_estimator.fit(x_train, y_train)\n",
    "\n",
    "# clf = svm.SVC(probability=True)\n",
    "# clf.fit(x_train, y_train)"
   ]
  },
  {
   "cell_type": "code",
   "execution_count": 6,
   "metadata": {},
   "outputs": [],
   "source": [
    "validation_pred = cb_estimator.predict_proba(x_validation)[:,1]"
   ]
  },
  {
   "cell_type": "markdown",
   "metadata": {},
   "source": [
    "<b>sentence accuracy:</b>"
   ]
  },
  {
   "cell_type": "code",
   "execution_count": 7,
   "metadata": {},
   "outputs": [
    {
     "name": "stdout",
     "output_type": "stream",
     "text": [
      "The accuracy score is: 0.6401590457256461\n"
     ]
    }
   ],
   "source": [
    "accuracy = accuracy_score(1*(np.array(validation_pred)>0.5), y_validation)\n",
    "print(f\"The accuracy score is: {accuracy}\")"
   ]
  },
  {
   "cell_type": "code",
   "execution_count": 8,
   "metadata": {},
   "outputs": [
    {
     "name": "stdout",
     "output_type": "stream",
     "text": [
      "The confusion matrix:\n",
      "[[420 268]\n",
      " [275 546]]\n"
     ]
    }
   ],
   "source": [
    "cfs_matrix = confusion_matrix(1*(np.array(validation_pred)>0.5), y_validation)\n",
    "print(f\"The confusion matrix:\")\n",
    "print(cfs_matrix)"
   ]
  },
  {
   "cell_type": "code",
   "execution_count": 9,
   "metadata": {},
   "outputs": [
    {
     "data": {
      "image/png": "[encoded data removed]",
      "text/plain": [
       "<Figure size 432x288 with 1 Axes>"
      ]
     },
     "metadata": {
      "needs_background": "light"
     },
     "output_type": "display_data"
    }
   ],
   "source": [
    "precision, recall, thresholds = precision_recall_curve(y_validation, validation_pred)\n",
    "plt.plot(recall, precision);\n",
    "plt.ylabel(\"Precision\");\n",
    "plt.xlabel(\"Recall\");\n",
    "plt.title(\"Precision-Recall Cruve\");\n",
    "plt.ylim([0,1.01]);"
   ]
  },
  {
   "cell_type": "markdown",
   "metadata": {},
   "source": [
    "<b>article accuracy:</b>"
   ]
  },
  {
   "cell_type": "code",
   "execution_count": 10,
   "metadata": {},
   "outputs": [],
   "source": [
    "pred_values = []\n",
    "labels = []\n",
    "unique_files = tfidf_validation[\"file path\"].unique()\n",
    "for pfile in unique_files:\n",
    "    file_mask = (tfidf_validation[\"file path\"] == pfile)\n",
    "    pred = np.mean(validation_pred[file_mask])\n",
    "    label = np.mean(y_validation[file_mask])\n",
    "    pred_values.append(pred)\n",
    "    labels.append(label)"
   ]
  },
  {
   "cell_type": "code",
   "execution_count": 11,
   "metadata": {},
   "outputs": [
    {
     "name": "stdout",
     "output_type": "stream",
     "text": [
      "The accuracy score is: 0.7407407407407407\n"
     ]
    }
   ],
   "source": [
    "labels = np.array(labels)\n",
    "accuracy = accuracy_score(1*(np.array(pred_values)>0.5), labels)\n",
    "print(f\"The accuracy score is: {accuracy}\")"
   ]
  },
  {
   "cell_type": "code",
   "execution_count": 12,
   "metadata": {},
   "outputs": [
    {
     "name": "stdout",
     "output_type": "stream",
     "text": [
      "The confusion matrix:\n",
      "[[19  8]\n",
      " [13 41]]\n"
     ]
    }
   ],
   "source": [
    "cfs_matrix = confusion_matrix(1*(np.array(pred_values)>0.5), labels)\n",
    "print(f\"The confusion matrix:\")\n",
    "print(cfs_matrix)"
   ]
  },
  {
   "cell_type": "code",
   "execution_count": 13,
   "metadata": {},
   "outputs": [
    {
     "data": {
      "image/png": "[encoded data removed]",
      "text/plain": [
       "<Figure size 432x288 with 1 Axes>"
      ]
     },
     "metadata": {
      "needs_background": "light"
     },
     "output_type": "display_data"
    }
   ],
   "source": [
    "precision, recall, thresholds = precision_recall_curve(labels, pred_values)\n",
    "plt.plot(recall, precision);\n",
    "plt.ylabel(\"Precision\");\n",
    "plt.xlabel(\"Recall\");\n",
    "plt.title(\"Precision-Recall Cruve\");\n",
    "plt.ylim([0,1.01]);"
   ]
  },
  {
   "cell_type": "markdown",
   "metadata": {},
   "source": [
    "<b>test article accuracy:</b>"
   ]
  },
  {
   "cell_type": "code",
   "execution_count": 14,
   "metadata": {},
   "outputs": [],
   "source": [
    "test_pred = cb_estimator.predict_proba(x_test)[:,1]"
   ]
  },
  {
   "cell_type": "code",
   "execution_count": 15,
   "metadata": {},
   "outputs": [],
   "source": [
    "pred_values = []\n",
    "labels = []\n",
    "unique_files = tfidf_test[\"file path\"].unique()\n",
    "for pfile in unique_files:\n",
    "    file_mask = (tfidf_test[\"file path\"] == pfile)\n",
    "    pred = np.mean(test_pred[file_mask])\n",
    "    label = np.mean(y_test[file_mask])\n",
    "    pred_values.append(pred)\n",
    "    labels.append(label)"
   ]
  },
  {
   "cell_type": "code",
   "execution_count": 16,
   "metadata": {},
   "outputs": [
    {
     "name": "stdout",
     "output_type": "stream",
     "text": [
      "The accuracy score is: 0.7777777777777778\n"
     ]
    }
   ],
   "source": [
    "labels = np.array(labels)\n",
    "accuracy = accuracy_score(1*(np.array(pred_values)>0.5), labels)\n",
    "print(f\"The accuracy score is: {accuracy}\")"
   ]
  },
  {
   "cell_type": "code",
   "execution_count": 17,
   "metadata": {},
   "outputs": [
    {
     "name": "stdout",
     "output_type": "stream",
     "text": [
      "The confusion matrix:\n",
      "[[18  3]\n",
      " [15 45]]\n"
     ]
    }
   ],
   "source": [
    "cfs_matrix = confusion_matrix(1*(np.array(pred_values)>0.5), labels)\n",
    "print(f\"The confusion matrix:\")\n",
    "print(cfs_matrix)"
   ]
  },
  {
   "cell_type": "code",
   "execution_count": 18,
   "metadata": {},
   "outputs": [
    {
     "data": {
      "image/png": "[encoded data removed]",
      "text/plain": [
       "<Figure size 432x288 with 1 Axes>"
      ]
     },
     "metadata": {
      "needs_background": "light"
     },
     "output_type": "display_data"
    }
   ],
   "source": [
    "precision, recall, thresholds = precision_recall_curve(labels, pred_values)\n",
    "plt.plot(recall, precision);\n",
    "plt.ylabel(\"Precision\");\n",
    "plt.xlabel(\"Recall\");\n",
    "plt.title(\"Precision-Recall Cruve\");\n",
    "plt.ylim([0,1.01]);"
   ]
  },
  {
   "cell_type": "markdown",
   "metadata": {},
   "source": [
    "<b>Train all data for web</b>"
   ]
  },
  {
   "cell_type": "code",
   "execution_count": 19,
   "metadata": {},
   "outputs": [],
   "source": [
    "model_path = r\"ML\\SavedModels\\cataboost_classifier.cbm\"\n",
    "cb_estimator.save_model(model_path, format=\"cbm\", export_parameters=None)"
   ]
  },
  {
   "cell_type": "code",
   "execution_count": 20,
   "metadata": {},
   "outputs": [],
   "source": [
    "x_train_validation = np.concatenate([x_train, x_validation])\n",
    "y_train_validation = np.concatenate([y_train, y_validation])"
   ]
  },
  {
   "cell_type": "code",
   "execution_count": 21,
   "metadata": {},
   "outputs": [
    {
     "name": "stderr",
     "output_type": "stream",
     "text": [
      "Warning: Overfitting detector is active, thus evaluation metric is calculated on every iteration. 'metric_period' is ignored for evaluation metric.\n"
     ]
    },
    {
     "name": "stdout",
     "output_type": "stream",
     "text": [
      "0:\tlearn: 0.6926915\ttest: 0.6934140\tbest: 0.6934140 (0)\ttotal: 11.7ms\tremaining: 5.86s\n",
      "20:\tlearn: 0.6844787\ttest: 0.6938500\tbest: 0.6934140 (0)\ttotal: 159ms\tremaining: 3.62s\n",
      "40:\tlearn: 0.6739746\ttest: 0.6846096\tbest: 0.6842618 (37)\ttotal: 303ms\tremaining: 3.39s\n",
      "60:\tlearn: 0.6630450\ttest: 0.6739530\tbest: 0.6739530 (60)\ttotal: 444ms\tremaining: 3.19s\n",
      "80:\tlearn: 0.6554947\ttest: 0.6687720\tbest: 0.6687720 (80)\ttotal: 591ms\tremaining: 3.06s\n",
      "100:\tlearn: 0.6507375\ttest: 0.6673242\tbest: 0.6671177 (94)\ttotal: 752ms\tremaining: 2.97s\n",
      "120:\tlearn: 0.6377794\ttest: 0.6583135\tbest: 0.6583135 (120)\ttotal: 901ms\tremaining: 2.82s\n",
      "140:\tlearn: 0.6141407\ttest: 0.6424117\tbest: 0.6424117 (140)\ttotal: 1.05s\tremaining: 2.67s\n",
      "160:\tlearn: 0.5919582\ttest: 0.6320778\tbest: 0.6320778 (160)\ttotal: 1.2s\tremaining: 2.52s\n",
      "180:\tlearn: 0.5741271\ttest: 0.6304107\tbest: 0.6304107 (180)\ttotal: 1.34s\tremaining: 2.36s\n",
      "200:\tlearn: 0.5588601\ttest: 0.6336061\tbest: 0.6299250 (183)\ttotal: 1.49s\tremaining: 2.21s\n",
      "220:\tlearn: 0.5457258\ttest: 0.6316249\tbest: 0.6299250 (183)\ttotal: 1.63s\tremaining: 2.06s\n",
      "240:\tlearn: 0.5343201\ttest: 0.6333921\tbest: 0.6299250 (183)\ttotal: 1.8s\tremaining: 1.93s\n",
      "260:\tlearn: 0.5228792\ttest: 0.6321287\tbest: 0.6299250 (183)\ttotal: 1.95s\tremaining: 1.78s\n",
      "280:\tlearn: 0.5129995\ttest: 0.6330024\tbest: 0.6299250 (183)\ttotal: 2.1s\tremaining: 1.63s\n",
      "300:\tlearn: 0.5031529\ttest: 0.6319304\tbest: 0.6299250 (183)\ttotal: 2.24s\tremaining: 1.48s\n",
      "320:\tlearn: 0.4947519\ttest: 0.6335384\tbest: 0.6299250 (183)\ttotal: 2.39s\tremaining: 1.33s\n",
      "340:\tlearn: 0.4864613\ttest: 0.6361587\tbest: 0.6299250 (183)\ttotal: 2.55s\tremaining: 1.19s\n",
      "360:\tlearn: 0.4788062\ttest: 0.6370320\tbest: 0.6299250 (183)\ttotal: 2.71s\tremaining: 1.04s\n",
      "380:\tlearn: 0.4710867\ttest: 0.6399039\tbest: 0.6299250 (183)\ttotal: 2.85s\tremaining: 891ms\n",
      "400:\tlearn: 0.4637390\ttest: 0.6415622\tbest: 0.6299250 (183)\ttotal: 3.01s\tremaining: 742ms\n",
      "420:\tlearn: 0.4565529\ttest: 0.6416741\tbest: 0.6299250 (183)\ttotal: 3.15s\tremaining: 591ms\n",
      "Stopped by overfitting detector  (20 iterations wait)\n",
      "\n",
      "bestTest = 0.6299249837\n",
      "bestIteration = 183\n",
      "\n",
      "Shrink model to first 184 iterations.\n"
     ]
    },
    {
     "data": {
      "text/plain": [
       "<catboost.core.CatBoostClassifier at 0x16c3646c208>"
      ]
     },
     "execution_count": 21,
     "metadata": {},
     "output_type": "execute_result"
    }
   ],
   "source": [
    "cb_estimator = cb.CatBoostClassifier(verbose=1, depth=4, learning_rate = 0.1,metric_period=20, iterations= 500,\n",
    "                 random_seed=0,feature_border_type=\"GreedyLogSum\",random_strength=100, od_pval=0.01, class_weights=[0.6,0.4])\n",
    "eval_dataset  = cb.Pool( x_test, y_test)  \n",
    "cb_estimator.fit(x_train_validation, y_train_validation, eval_set = eval_dataset)"
   ]
  },
  {
   "cell_type": "code",
   "execution_count": 22,
   "metadata": {},
   "outputs": [],
   "source": [
    "model_path = r\"ML\\SavedModels\\cataboost_classifier.cbm\"\n",
    "cb_estimator.save_model(model_path, format=\"cbm\", export_parameters=None)"
   ]
  },
  {
   "cell_type": "code",
   "execution_count": null,
   "metadata": {},
   "outputs": [],
   "source": []
  },
  {
   "cell_type": "code",
   "execution_count": null,
   "metadata": {},
   "outputs": [],
   "source": []
  }
 ],
 "metadata": {
  "kernelspec": {
   "display_name": "Python 3",
   "language": "python",
   "name": "python3"
  },
  "language_info": {
   "codemirror_mode": {
    "name": "ipython",
    "version": 3
   },
   "file_extension": ".py",
   "mimetype": "text/x-python",
   "name": "python",
   "nbconvert_exporter": "python",
   "pygments_lexer": "ipython3",
   "version": "3.7.4"
  }
 },
 "nbformat": 4,
 "nbformat_minor": 4
}
